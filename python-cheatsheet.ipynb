{
 "cells": [
  {
   "cell_type": "raw",
   "id": "3534fcbb",
   "metadata": {},
   "source": [
    "# Python Cheatsheet"
   ]
  },
  {
   "cell_type": "markdown",
   "id": "502fb1e8",
   "metadata": {},
   "source": [
    "This Jupyter Notebook file contains a large collection of basic Python code, concepts, and implementations, ranging from a beginner level to an advanced level. Obvious work in progress!"
   ]
  },
  {
   "cell_type": "code",
   "execution_count": 1,
   "id": "89cb42d6",
   "metadata": {
    "ExecuteTime": {
     "end_time": "2023-03-19T14:45:24.289497Z",
     "start_time": "2023-03-19T14:45:24.278512Z"
    }
   },
   "outputs": [],
   "source": [
    "from abc import ABC, abstractmethod\n",
    "import math\n",
    "import itertools"
   ]
  },
  {
   "cell_type": "markdown",
   "id": "4ea803be",
   "metadata": {},
   "source": [
    "## Table of Contents"
   ]
  },
  {
   "cell_type": "markdown",
   "id": "917625a2",
   "metadata": {},
   "source": [
    "- [Variables and Data Types](#vardtype)\n",
    "- [Strings](#strings)\n",
    "- [Numbers](#numbers)\n",
    "- [User Input](#userinput)\n",
    "- [Lists](#lists)\n",
    "- [Tuples](#tuples)\n",
    "- [Enumerate and Zip](#enumeratezip)\n",
    "- [Functions](#functions)\n",
    "- [Conditionals](#conditionals)\n",
    "- [Dictionaries](#dictionaries)\n",
    "- [Loops](#loops)\n",
    "- [External Files](#files)\n",
    "- [Classes](#classes)\n",
    "- [Time Complexity](#time)\n",
    "- [Miscellaneous](#misc)"
   ]
  },
  {
   "cell_type": "markdown",
   "id": "548b3e07",
   "metadata": {},
   "source": [
    "## Variables and Data Types <a name=\"vardtype\" />"
   ]
  },
  {
   "cell_type": "code",
   "execution_count": 2,
   "id": "c27926b1",
   "metadata": {
    "ExecuteTime": {
     "end_time": "2023-03-19T14:45:24.321487Z",
     "start_time": "2023-03-19T14:45:24.293493Z"
    }
   },
   "outputs": [
    {
     "name": "stdout",
     "output_type": "stream",
     "text": [
      "John is 35 years old.\n"
     ]
    }
   ],
   "source": [
    "# Print statement\n",
    "print(\"John is 35 years old.\")"
   ]
  },
  {
   "cell_type": "code",
   "execution_count": 3,
   "id": "6b74ae19",
   "metadata": {
    "ExecuteTime": {
     "end_time": "2023-03-19T14:45:24.337478Z",
     "start_time": "2023-03-19T14:45:24.324475Z"
    }
   },
   "outputs": [],
   "source": [
    "# Variable creation and assignment\n",
    "# Python likes using snake_casing\n",
    "character_name = \"John\"\n",
    "character_age = \"35\""
   ]
  },
  {
   "cell_type": "code",
   "execution_count": 4,
   "id": "a735968e",
   "metadata": {
    "ExecuteTime": {
     "end_time": "2023-03-19T14:45:24.353372Z",
     "start_time": "2023-03-19T14:45:24.341367Z"
    }
   },
   "outputs": [
    {
     "name": "stdout",
     "output_type": "stream",
     "text": [
      "John is 35 years old.\n"
     ]
    }
   ],
   "source": [
    "# Combining string variables and strings with the addition operator (concatenation)\n",
    "print(character_name + \" is \" + character_age + \" years old.\")"
   ]
  },
  {
   "cell_type": "code",
   "execution_count": 5,
   "id": "c60b7501",
   "metadata": {
    "ExecuteTime": {
     "end_time": "2023-03-19T14:45:24.368353Z",
     "start_time": "2023-03-19T14:45:24.357361Z"
    }
   },
   "outputs": [
    {
     "name": "stdout",
     "output_type": "stream",
     "text": [
      "John is 35 years old.\n"
     ]
    }
   ],
   "source": [
    "# Formatted string\n",
    "print(f\"{character_name} is {character_age} years old.\")"
   ]
  },
  {
   "cell_type": "code",
   "execution_count": 6,
   "id": "53cc8a5e",
   "metadata": {
    "ExecuteTime": {
     "end_time": "2023-03-19T14:45:24.383345Z",
     "start_time": "2023-03-19T14:45:24.371349Z"
    }
   },
   "outputs": [
    {
     "name": "stdout",
     "output_type": "stream",
     "text": [
      "John is 20 years old.\n"
     ]
    }
   ],
   "source": [
    "# Formatted strings allow non-string variables as well\n",
    "new_age = 20\n",
    "print(f\"{character_name} is {new_age} years old.\")"
   ]
  },
  {
   "cell_type": "code",
   "execution_count": 7,
   "id": "e8eb6f24",
   "metadata": {
    "ExecuteTime": {
     "end_time": "2023-03-19T14:45:24.398577Z",
     "start_time": "2023-03-19T14:45:24.386343Z"
    }
   },
   "outputs": [
    {
     "name": "stdout",
     "output_type": "stream",
     "text": [
      "Spaghetti\n",
      "Pizza\n",
      "Sushi\n"
     ]
    }
   ],
   "source": [
    "# Variables can be changed at will\n",
    "food = \"Spaghetti\"\n",
    "print(food)\n",
    "food = \"Pizza\"\n",
    "print(food)\n",
    "food = \"Sushi\"\n",
    "print(food)"
   ]
  },
  {
   "cell_type": "code",
   "execution_count": 8,
   "id": "febf7c97",
   "metadata": {
    "ExecuteTime": {
     "end_time": "2023-03-19T14:45:24.414328Z",
     "start_time": "2023-03-19T14:45:24.402334Z"
    }
   },
   "outputs": [
    {
     "data": {
      "text/plain": [
       "(str, int)"
      ]
     },
     "execution_count": 8,
     "metadata": {},
     "output_type": "execute_result"
    }
   ],
   "source": [
    "# Checking the data type of a variable\n",
    "type(character_age), type(new_age)"
   ]
  },
  {
   "cell_type": "code",
   "execution_count": 9,
   "id": "3e669d0d",
   "metadata": {
    "ExecuteTime": {
     "end_time": "2023-03-19T14:45:24.429317Z",
     "start_time": "2023-03-19T14:45:24.417324Z"
    }
   },
   "outputs": [],
   "source": [
    "# Boolean, either True or False!\n",
    "is_male = True\n",
    "is_female = False"
   ]
  },
  {
   "cell_type": "markdown",
   "id": "cb22ac9c",
   "metadata": {},
   "source": [
    "## Strings <a name=\"strings\" />"
   ]
  },
  {
   "cell_type": "code",
   "execution_count": 10,
   "id": "7b723507",
   "metadata": {
    "ExecuteTime": {
     "end_time": "2023-03-19T14:45:24.445307Z",
     "start_time": "2023-03-19T14:45:24.435314Z"
    }
   },
   "outputs": [
    {
     "name": "stdout",
     "output_type": "stream",
     "text": [
      "Giraffe Academy\n"
     ]
    }
   ],
   "source": [
    "# Printing a basic string\n",
    "print(\"Giraffe Academy\")"
   ]
  },
  {
   "cell_type": "code",
   "execution_count": 11,
   "id": "1b89607f",
   "metadata": {
    "ExecuteTime": {
     "end_time": "2023-03-19T14:45:24.461299Z",
     "start_time": "2023-03-19T14:45:24.448526Z"
    }
   },
   "outputs": [
    {
     "name": "stdout",
     "output_type": "stream",
     "text": [
      "Giraffe\n",
      "Academy\n"
     ]
    }
   ],
   "source": [
    "# Inserting a new line into the string\n",
    "print(\"Giraffe\\nAcademy\")"
   ]
  },
  {
   "cell_type": "code",
   "execution_count": 12,
   "id": "2f9557b9",
   "metadata": {
    "ExecuteTime": {
     "end_time": "2023-03-19T14:45:24.477300Z",
     "start_time": "2023-03-19T14:45:24.464297Z"
    }
   },
   "outputs": [
    {
     "name": "stdout",
     "output_type": "stream",
     "text": [
      "Giraffe\"\\Academy\n"
     ]
    }
   ],
   "source": [
    "# Escaping other characters such as \" or \\\n",
    "print(\"Giraffe\\\"\\\\Academy\")"
   ]
  },
  {
   "cell_type": "code",
   "execution_count": 13,
   "id": "aff2b01c",
   "metadata": {
    "ExecuteTime": {
     "end_time": "2023-03-19T14:45:24.493280Z",
     "start_time": "2023-03-19T14:45:24.480288Z"
    }
   },
   "outputs": [
    {
     "name": "stdout",
     "output_type": "stream",
     "text": [
      "Giraffe Academy\n"
     ]
    }
   ],
   "source": [
    "# Printing a string variable\n",
    "phrase1 = \"Giraffe Academy\"\n",
    "print(phrase1)"
   ]
  },
  {
   "cell_type": "code",
   "execution_count": 14,
   "id": "ab05557a",
   "metadata": {
    "ExecuteTime": {
     "end_time": "2023-03-19T14:45:24.509288Z",
     "start_time": "2023-03-19T14:45:24.496280Z"
    }
   },
   "outputs": [
    {
     "name": "stdout",
     "output_type": "stream",
     "text": [
      "Giraffe Academy is cool\n"
     ]
    }
   ],
   "source": [
    "# String concatenation\n",
    "phrase2 = \"is cool\"\n",
    "print(phrase1 + \" \" + phrase2)"
   ]
  },
  {
   "cell_type": "code",
   "execution_count": 15,
   "id": "7bd51f2b",
   "metadata": {
    "ExecuteTime": {
     "end_time": "2023-03-19T14:45:24.525273Z",
     "start_time": "2023-03-19T14:45:24.512269Z"
    }
   },
   "outputs": [
    {
     "data": {
      "text/plain": [
       "'giraffe academy'"
      ]
     },
     "execution_count": 15,
     "metadata": {},
     "output_type": "execute_result"
    }
   ],
   "source": [
    "# Basic function to make a string lowercase\n",
    "phrase1.lower()"
   ]
  },
  {
   "cell_type": "code",
   "execution_count": 16,
   "id": "11de77da",
   "metadata": {
    "ExecuteTime": {
     "end_time": "2023-03-19T14:45:24.541253Z",
     "start_time": "2023-03-19T14:45:24.528259Z"
    }
   },
   "outputs": [
    {
     "data": {
      "text/plain": [
       "'GIRAFFE ACADEMY'"
      ]
     },
     "execution_count": 16,
     "metadata": {},
     "output_type": "execute_result"
    }
   ],
   "source": [
    "# Basic function to make a string uppercase\n",
    "phrase1.upper()"
   ]
  },
  {
   "cell_type": "code",
   "execution_count": 17,
   "id": "e66cd662",
   "metadata": {
    "ExecuteTime": {
     "end_time": "2023-03-19T14:45:24.556255Z",
     "start_time": "2023-03-19T14:45:24.545251Z"
    }
   },
   "outputs": [
    {
     "data": {
      "text/plain": [
       "(False, False)"
      ]
     },
     "execution_count": 17,
     "metadata": {},
     "output_type": "execute_result"
    }
   ],
   "source": [
    "# Checking if a string is fully lowercase or uppercase\n",
    "phrase1.islower(), phrase1.isupper()"
   ]
  },
  {
   "cell_type": "code",
   "execution_count": 18,
   "id": "fc640d8f",
   "metadata": {
    "ExecuteTime": {
     "end_time": "2023-03-19T14:45:24.572235Z",
     "start_time": "2023-03-19T14:45:24.559258Z"
    }
   },
   "outputs": [
    {
     "data": {
      "text/plain": [
       "True"
      ]
     },
     "execution_count": 18,
     "metadata": {},
     "output_type": "execute_result"
    }
   ],
   "source": [
    "# Combining these functions together\n",
    "phrase1.lower().islower()"
   ]
  },
  {
   "cell_type": "code",
   "execution_count": 19,
   "id": "0119e52e",
   "metadata": {
    "ExecuteTime": {
     "end_time": "2023-03-19T14:45:24.588232Z",
     "start_time": "2023-03-19T14:45:24.576233Z"
    }
   },
   "outputs": [
    {
     "data": {
      "text/plain": [
       "15"
      ]
     },
     "execution_count": 19,
     "metadata": {},
     "output_type": "execute_result"
    }
   ],
   "source": [
    "# Checking the length of a string\n",
    "len(phrase1)"
   ]
  },
  {
   "cell_type": "code",
   "execution_count": 20,
   "id": "23b28b84",
   "metadata": {
    "ExecuteTime": {
     "end_time": "2023-03-19T14:45:24.604217Z",
     "start_time": "2023-03-19T14:45:24.591227Z"
    }
   },
   "outputs": [
    {
     "data": {
      "text/plain": [
       "'G'"
      ]
     },
     "execution_count": 20,
     "metadata": {},
     "output_type": "execute_result"
    }
   ],
   "source": [
    "# String character indexing\n",
    "phrase1[0]"
   ]
  },
  {
   "cell_type": "code",
   "execution_count": 21,
   "id": "5ef5c46a",
   "metadata": {
    "ExecuteTime": {
     "end_time": "2023-03-19T14:45:24.619210Z",
     "start_time": "2023-03-19T14:45:24.607218Z"
    }
   },
   "outputs": [
    {
     "data": {
      "text/plain": [
       "'Gira'"
      ]
     },
     "execution_count": 21,
     "metadata": {},
     "output_type": "execute_result"
    }
   ],
   "source": [
    "# String character indexing\n",
    "phrase1[:4]"
   ]
  },
  {
   "cell_type": "code",
   "execution_count": 22,
   "id": "332d90a7",
   "metadata": {
    "ExecuteTime": {
     "end_time": "2023-03-19T14:45:24.634200Z",
     "start_time": "2023-03-19T14:45:24.622207Z"
    }
   },
   "outputs": [
    {
     "data": {
      "text/plain": [
       "'fe Academy'"
      ]
     },
     "execution_count": 22,
     "metadata": {},
     "output_type": "execute_result"
    }
   ],
   "source": [
    "# String character indexing\n",
    "phrase1[5:]"
   ]
  },
  {
   "cell_type": "code",
   "execution_count": 23,
   "id": "a1f459e9",
   "metadata": {
    "ExecuteTime": {
     "end_time": "2023-03-19T14:45:24.650190Z",
     "start_time": "2023-03-19T14:45:24.637198Z"
    }
   },
   "outputs": [
    {
     "data": {
      "text/plain": [
       "(0, 3)"
      ]
     },
     "execution_count": 23,
     "metadata": {},
     "output_type": "execute_result"
    }
   ],
   "source": [
    "# Receiving first index of where a character or string occurs\n",
    "# The letter \"a\" occurs first at index 3!\n",
    "phrase1.index(\"G\"), phrase1.index(\"a\")"
   ]
  },
  {
   "cell_type": "code",
   "execution_count": 24,
   "id": "92fd3d51",
   "metadata": {
    "ExecuteTime": {
     "end_time": "2023-03-19T14:45:24.665182Z",
     "start_time": "2023-03-19T14:45:24.653189Z"
    }
   },
   "outputs": [
    {
     "data": {
      "text/plain": [
       "'Goose Academy'"
      ]
     },
     "execution_count": 24,
     "metadata": {},
     "output_type": "execute_result"
    }
   ],
   "source": [
    "# Replacing values in a string\n",
    "phrase1.replace(\"iraffe\", \"oose\")"
   ]
  },
  {
   "cell_type": "markdown",
   "id": "96e92790",
   "metadata": {},
   "source": [
    "## Numbers <a name=\"numbers\" />"
   ]
  },
  {
   "cell_type": "code",
   "execution_count": 25,
   "id": "c84b664e",
   "metadata": {
    "ExecuteTime": {
     "end_time": "2023-03-19T14:45:24.680173Z",
     "start_time": "2023-03-19T14:45:24.668180Z"
    }
   },
   "outputs": [
    {
     "name": "stdout",
     "output_type": "stream",
     "text": [
      "2\n",
      "2.3456789\n",
      "-2\n"
     ]
    }
   ],
   "source": [
    "# Printing various numbers\n",
    "print(2)\n",
    "print(2.3456789)\n",
    "print(-2)"
   ]
  },
  {
   "cell_type": "code",
   "execution_count": 26,
   "id": "58d86085",
   "metadata": {
    "ExecuteTime": {
     "end_time": "2023-03-19T14:45:24.695183Z",
     "start_time": "2023-03-19T14:45:24.683173Z"
    }
   },
   "outputs": [
    {
     "name": "stdout",
     "output_type": "stream",
     "text": [
      "7\n",
      "1\n",
      "9\n",
      "3.0\n"
     ]
    }
   ],
   "source": [
    "# Arithmetic \n",
    "print(3 + 4)\n",
    "print(4 - 3)\n",
    "print(3 * 3)\n",
    "print(12 / 4)"
   ]
  },
  {
   "cell_type": "code",
   "execution_count": 27,
   "id": "0d556002",
   "metadata": {
    "ExecuteTime": {
     "end_time": "2023-03-19T14:45:24.711166Z",
     "start_time": "2023-03-19T14:45:24.698171Z"
    }
   },
   "outputs": [
    {
     "name": "stdout",
     "output_type": "stream",
     "text": [
      "17\n",
      "27\n"
     ]
    }
   ],
   "source": [
    "# Changing order of operations with parentheses\n",
    "print(3 * 4 + 5)\n",
    "print(3 * (4 + 5))"
   ]
  },
  {
   "cell_type": "code",
   "execution_count": 28,
   "id": "853a98dc",
   "metadata": {
    "ExecuteTime": {
     "end_time": "2023-03-19T14:45:24.727157Z",
     "start_time": "2023-03-19T14:45:24.721149Z"
    }
   },
   "outputs": [
    {
     "data": {
      "text/plain": [
       "1"
      ]
     },
     "execution_count": 28,
     "metadata": {},
     "output_type": "execute_result"
    }
   ],
   "source": [
    "# Modulo division and remainder\n",
    "10 % 3"
   ]
  },
  {
   "cell_type": "code",
   "execution_count": 29,
   "id": "1fc66479",
   "metadata": {
    "ExecuteTime": {
     "end_time": "2023-03-19T14:45:24.759139Z",
     "start_time": "2023-03-19T14:45:24.730155Z"
    }
   },
   "outputs": [
    {
     "data": {
      "text/plain": [
       "'5'"
      ]
     },
     "execution_count": 29,
     "metadata": {},
     "output_type": "execute_result"
    }
   ],
   "source": [
    "# Converting number to a string\n",
    "str(5)"
   ]
  },
  {
   "cell_type": "code",
   "execution_count": 30,
   "id": "180d241e",
   "metadata": {
    "ExecuteTime": {
     "end_time": "2023-03-19T14:45:24.774130Z",
     "start_time": "2023-03-19T14:45:24.762129Z"
    }
   },
   "outputs": [
    {
     "data": {
      "text/plain": [
       "5"
      ]
     },
     "execution_count": 30,
     "metadata": {},
     "output_type": "execute_result"
    }
   ],
   "source": [
    "# Getting the absolute value of a number\n",
    "abs(-5)"
   ]
  },
  {
   "cell_type": "code",
   "execution_count": 31,
   "id": "e599113b",
   "metadata": {
    "ExecuteTime": {
     "end_time": "2023-03-19T14:45:24.790110Z",
     "start_time": "2023-03-19T14:45:24.777130Z"
    }
   },
   "outputs": [
    {
     "data": {
      "text/plain": [
       "27"
      ]
     },
     "execution_count": 31,
     "metadata": {},
     "output_type": "execute_result"
    }
   ],
   "source": [
    "# Powers\n",
    "pow(3, 3)"
   ]
  },
  {
   "cell_type": "code",
   "execution_count": 32,
   "id": "188d9538",
   "metadata": {
    "ExecuteTime": {
     "end_time": "2023-03-19T14:45:24.805113Z",
     "start_time": "2023-03-19T14:45:24.793110Z"
    }
   },
   "outputs": [
    {
     "data": {
      "text/plain": [
       "7"
      ]
     },
     "execution_count": 32,
     "metadata": {},
     "output_type": "execute_result"
    }
   ],
   "source": [
    "# Getting the largest number of a selection of multiple numbers\n",
    "max(4, 6, 7)"
   ]
  },
  {
   "cell_type": "code",
   "execution_count": 33,
   "id": "26d5d267",
   "metadata": {
    "ExecuteTime": {
     "end_time": "2023-03-19T14:45:24.820111Z",
     "start_time": "2023-03-19T14:45:24.808100Z"
    }
   },
   "outputs": [
    {
     "data": {
      "text/plain": [
       "4"
      ]
     },
     "execution_count": 33,
     "metadata": {},
     "output_type": "execute_result"
    }
   ],
   "source": [
    "# Getting the smallest number of a selection of multiple numbers\n",
    "min(4, 6, 7)"
   ]
  },
  {
   "cell_type": "code",
   "execution_count": 34,
   "id": "a6abf71c",
   "metadata": {
    "ExecuteTime": {
     "end_time": "2023-03-19T14:45:24.850077Z",
     "start_time": "2023-03-19T14:45:24.824092Z"
    }
   },
   "outputs": [
    {
     "data": {
      "text/plain": [
       "(3, 4, 4)"
      ]
     },
     "execution_count": 34,
     "metadata": {},
     "output_type": "execute_result"
    }
   ],
   "source": [
    "# Rounding numbers\n",
    "round(3.2), round(3.5), round(4.49)"
   ]
  },
  {
   "cell_type": "code",
   "execution_count": 35,
   "id": "f95858eb",
   "metadata": {
    "ExecuteTime": {
     "end_time": "2023-03-19T14:45:24.866067Z",
     "start_time": "2023-03-19T14:45:24.853078Z"
    }
   },
   "outputs": [
    {
     "data": {
      "text/plain": [
       "3"
      ]
     },
     "execution_count": 35,
     "metadata": {},
     "output_type": "execute_result"
    }
   ],
   "source": [
    "# Floor method that always rounds down\n",
    "math.floor(3.7)"
   ]
  },
  {
   "cell_type": "code",
   "execution_count": 36,
   "id": "272de5c6",
   "metadata": {
    "ExecuteTime": {
     "end_time": "2023-03-19T14:45:24.882058Z",
     "start_time": "2023-03-19T14:45:24.869065Z"
    }
   },
   "outputs": [
    {
     "data": {
      "text/plain": [
       "4"
      ]
     },
     "execution_count": 36,
     "metadata": {},
     "output_type": "execute_result"
    }
   ],
   "source": [
    "# Ceil method that always rounds up\n",
    "math.ceil(3.2)"
   ]
  },
  {
   "cell_type": "code",
   "execution_count": 37,
   "id": "0ab69e16",
   "metadata": {
    "ExecuteTime": {
     "end_time": "2023-03-19T14:45:24.898067Z",
     "start_time": "2023-03-19T14:45:24.885056Z"
    }
   },
   "outputs": [
    {
     "data": {
      "text/plain": [
       "3.0"
      ]
     },
     "execution_count": 37,
     "metadata": {},
     "output_type": "execute_result"
    }
   ],
   "source": [
    "# Square root\n",
    "math.sqrt(9)"
   ]
  },
  {
   "cell_type": "code",
   "execution_count": 38,
   "id": "ffee39f2",
   "metadata": {
    "ExecuteTime": {
     "end_time": "2023-03-19T14:45:24.914042Z",
     "start_time": "2023-03-19T14:45:24.901048Z"
    }
   },
   "outputs": [
    {
     "name": "stdout",
     "output_type": "stream",
     "text": [
      "8\n",
      "9\n",
      "3.0\n",
      "9.0\n",
      "4.0\n"
     ]
    }
   ],
   "source": [
    "# Assignment operators\n",
    "cool_number = 8\n",
    "print(cool_number)\n",
    "cool_number += 1\n",
    "print(cool_number)\n",
    "cool_number /= 3\n",
    "print(cool_number)\n",
    "cool_number *= 3\n",
    "print(cool_number)\n",
    "cool_number -= 5\n",
    "print(cool_number)"
   ]
  },
  {
   "cell_type": "code",
   "execution_count": 39,
   "id": "4c8728bb",
   "metadata": {
    "ExecuteTime": {
     "end_time": "2023-03-19T14:45:24.930031Z",
     "start_time": "2023-03-19T14:45:24.917038Z"
    }
   },
   "outputs": [
    {
     "data": {
      "text/plain": [
       "8"
      ]
     },
     "execution_count": 39,
     "metadata": {},
     "output_type": "execute_result"
    }
   ],
   "source": [
    "# Exponent function\n",
    "2**3"
   ]
  },
  {
   "cell_type": "markdown",
   "id": "bce78738",
   "metadata": {},
   "source": [
    "## User Input <a name=\"userinput\" />"
   ]
  },
  {
   "cell_type": "code",
   "execution_count": 40,
   "id": "c2bf050c",
   "metadata": {
    "ExecuteTime": {
     "end_time": "2023-03-19T14:45:27.755980Z",
     "start_time": "2023-03-19T14:45:24.933031Z"
    }
   },
   "outputs": [
    {
     "name": "stdout",
     "output_type": "stream",
     "text": [
      "Enter your name: Bob\n"
     ]
    }
   ],
   "source": [
    "# Getting input and storing it in a variable\n",
    "name = input(\"Enter your name: \")"
   ]
  },
  {
   "cell_type": "code",
   "execution_count": 41,
   "id": "74a36ed7",
   "metadata": {
    "ExecuteTime": {
     "end_time": "2023-03-19T14:45:27.771972Z",
     "start_time": "2023-03-19T14:45:27.758970Z"
    }
   },
   "outputs": [
    {
     "name": "stdout",
     "output_type": "stream",
     "text": [
      "Hello Bob!\n"
     ]
    }
   ],
   "source": [
    "# Printing the saved name\n",
    "print(f\"Hello {name}!\")"
   ]
  },
  {
   "cell_type": "code",
   "execution_count": 42,
   "id": "39d4b47b",
   "metadata": {
    "ExecuteTime": {
     "end_time": "2023-03-19T14:45:28.909494Z",
     "start_time": "2023-03-19T14:45:27.773959Z"
    }
   },
   "outputs": [
    {
     "name": "stdout",
     "output_type": "stream",
     "text": [
      "Enter your age: 15\n"
     ]
    }
   ],
   "source": [
    "# Getting input and storing it in a variable\n",
    "age = input(\"Enter your age: \")"
   ]
  },
  {
   "cell_type": "code",
   "execution_count": 43,
   "id": "9d445beb",
   "metadata": {
    "ExecuteTime": {
     "end_time": "2023-03-19T14:45:28.924486Z",
     "start_time": "2023-03-19T14:45:28.912510Z"
    }
   },
   "outputs": [
    {
     "data": {
      "text/plain": [
       "'1515'"
      ]
     },
     "execution_count": 43,
     "metadata": {},
     "output_type": "execute_result"
    }
   ],
   "source": [
    "# Input is a string by default\n",
    "age + age"
   ]
  },
  {
   "cell_type": "code",
   "execution_count": 44,
   "id": "820c3cbc",
   "metadata": {
    "ExecuteTime": {
     "end_time": "2023-03-19T14:45:28.940488Z",
     "start_time": "2023-03-19T14:45:28.927669Z"
    }
   },
   "outputs": [
    {
     "data": {
      "text/plain": [
       "30"
      ]
     },
     "execution_count": 44,
     "metadata": {},
     "output_type": "execute_result"
    }
   ],
   "source": [
    "# Converting strings to integers\n",
    "int(age) + int(age)"
   ]
  },
  {
   "cell_type": "code",
   "execution_count": 45,
   "id": "3682b78e",
   "metadata": {
    "ExecuteTime": {
     "end_time": "2023-03-19T14:45:28.956470Z",
     "start_time": "2023-03-19T14:45:28.944475Z"
    }
   },
   "outputs": [
    {
     "data": {
      "text/plain": [
       "20.3"
      ]
     },
     "execution_count": 45,
     "metadata": {},
     "output_type": "execute_result"
    }
   ],
   "source": [
    "# int() fails when the number has decimals\n",
    "# Float can be used for decimals instead\n",
    "float(age) + float(\"5.3\")"
   ]
  },
  {
   "cell_type": "code",
   "execution_count": 46,
   "id": "ef7d9567",
   "metadata": {
    "ExecuteTime": {
     "end_time": "2023-03-19T14:45:28.972469Z",
     "start_time": "2023-03-19T14:45:28.960471Z"
    }
   },
   "outputs": [
    {
     "data": {
      "text/plain": [
       "float"
      ]
     },
     "execution_count": 46,
     "metadata": {},
     "output_type": "execute_result"
    }
   ],
   "source": [
    "# Integer + float becomes a float\n",
    "add = 5 + 5.3\n",
    "type(add)"
   ]
  },
  {
   "cell_type": "markdown",
   "id": "337d96b4",
   "metadata": {},
   "source": [
    "## Lists <a name=\"lists\" />"
   ]
  },
  {
   "cell_type": "code",
   "execution_count": 47,
   "id": "a7a3edea",
   "metadata": {
    "ExecuteTime": {
     "end_time": "2023-03-19T14:45:28.987661Z",
     "start_time": "2023-03-19T14:45:28.974458Z"
    }
   },
   "outputs": [
    {
     "data": {
      "text/plain": [
       "['Pizza', 'Sushi', 'Ice cream']"
      ]
     },
     "execution_count": 47,
     "metadata": {},
     "output_type": "execute_result"
    }
   ],
   "source": [
    "# Making a list\n",
    "foods = [\"Pizza\", \"Sushi\", \"Ice cream\"]\n",
    "foods"
   ]
  },
  {
   "cell_type": "code",
   "execution_count": 48,
   "id": "49fd3e04",
   "metadata": {
    "ExecuteTime": {
     "end_time": "2023-03-19T14:45:29.003452Z",
     "start_time": "2023-03-19T14:45:28.990448Z"
    }
   },
   "outputs": [
    {
     "data": {
      "text/plain": [
       "'Pizza'"
      ]
     },
     "execution_count": 48,
     "metadata": {},
     "output_type": "execute_result"
    }
   ],
   "source": [
    "# List indexing\n",
    "foods[0]"
   ]
  },
  {
   "cell_type": "code",
   "execution_count": 49,
   "id": "f3dc6cfc",
   "metadata": {
    "ExecuteTime": {
     "end_time": "2023-03-19T14:45:29.019434Z",
     "start_time": "2023-03-19T14:45:29.005443Z"
    }
   },
   "outputs": [
    {
     "data": {
      "text/plain": [
       "['Ice cream']"
      ]
     },
     "execution_count": 49,
     "metadata": {},
     "output_type": "execute_result"
    }
   ],
   "source": [
    "# List indexing\n",
    "foods[2:]"
   ]
  },
  {
   "cell_type": "code",
   "execution_count": 50,
   "id": "26ecd92e",
   "metadata": {
    "ExecuteTime": {
     "end_time": "2023-03-19T14:45:29.035442Z",
     "start_time": "2023-03-19T14:45:29.022430Z"
    }
   },
   "outputs": [
    {
     "data": {
      "text/plain": [
       "['Sushi']"
      ]
     },
     "execution_count": 50,
     "metadata": {},
     "output_type": "execute_result"
    }
   ],
   "source": [
    "# List indexing\n",
    "foods[1:2]"
   ]
  },
  {
   "cell_type": "code",
   "execution_count": 51,
   "id": "d712f595",
   "metadata": {
    "ExecuteTime": {
     "end_time": "2023-03-19T14:45:29.051166Z",
     "start_time": "2023-03-19T14:45:29.038425Z"
    }
   },
   "outputs": [
    {
     "data": {
      "text/plain": [
       "['Ice cream']"
      ]
     },
     "execution_count": 51,
     "metadata": {},
     "output_type": "execute_result"
    }
   ],
   "source": [
    "# Negative list indexing\n",
    "foods[-1:]"
   ]
  },
  {
   "cell_type": "code",
   "execution_count": 52,
   "id": "b8b51430",
   "metadata": {
    "ExecuteTime": {
     "end_time": "2023-03-19T14:45:29.066147Z",
     "start_time": "2023-03-19T14:45:29.054154Z"
    }
   },
   "outputs": [
    {
     "data": {
      "text/plain": [
       "['Banana', 'Sushi', 'Ice cream']"
      ]
     },
     "execution_count": 52,
     "metadata": {},
     "output_type": "execute_result"
    }
   ],
   "source": [
    "# Changing list values\n",
    "foods[0] = \"Banana\"\n",
    "foods"
   ]
  },
  {
   "cell_type": "code",
   "execution_count": 53,
   "id": "7119f156",
   "metadata": {
    "ExecuteTime": {
     "end_time": "2023-03-19T14:45:29.081158Z",
     "start_time": "2023-03-19T14:45:29.069148Z"
    }
   },
   "outputs": [
    {
     "data": {
      "text/plain": [
       "['Banana', 'Sushi', 'Ice cream', 1, 2, 3]"
      ]
     },
     "execution_count": 53,
     "metadata": {},
     "output_type": "execute_result"
    }
   ],
   "source": [
    "# Adding a list to a list\n",
    "numbers = [1, 2, 3]\n",
    "foods.extend(numbers)\n",
    "foods"
   ]
  },
  {
   "cell_type": "code",
   "execution_count": 54,
   "id": "37a6f97e",
   "metadata": {
    "ExecuteTime": {
     "end_time": "2023-03-19T14:45:29.113121Z",
     "start_time": "2023-03-19T14:45:29.085140Z"
    }
   },
   "outputs": [
    {
     "data": {
      "text/plain": [
       "['Banana', 'Sushi', 'Ice cream', 1, 2, 3, 'John', 'John']"
      ]
     },
     "execution_count": 54,
     "metadata": {},
     "output_type": "execute_result"
    }
   ],
   "source": [
    "# Adding another item to the end of a list\n",
    "foods.append(\"John\")\n",
    "foods.append(\"John\")\n",
    "foods"
   ]
  },
  {
   "cell_type": "code",
   "execution_count": 55,
   "id": "b20c95a7",
   "metadata": {
    "ExecuteTime": {
     "end_time": "2023-03-19T14:45:29.128115Z",
     "start_time": "2023-03-19T14:45:29.115120Z"
    }
   },
   "outputs": [
    {
     "data": {
      "text/plain": [
       "['Banana', 'Sushi', 'Chocolate', 'Ice cream', 1, 2, 3, 'John', 'John']"
      ]
     },
     "execution_count": 55,
     "metadata": {},
     "output_type": "execute_result"
    }
   ],
   "source": [
    "# Inserting an item at a specific index of a list\n",
    "foods.insert(2, \"Chocolate\")\n",
    "foods"
   ]
  },
  {
   "cell_type": "code",
   "execution_count": 56,
   "id": "cb78b91b",
   "metadata": {
    "ExecuteTime": {
     "end_time": "2023-03-19T14:45:29.144103Z",
     "start_time": "2023-03-19T14:45:29.132111Z"
    }
   },
   "outputs": [
    {
     "data": {
      "text/plain": [
       "['Banana', 'Sushi', 'Chocolate', 1, 2, 3, 'John', 'John']"
      ]
     },
     "execution_count": 56,
     "metadata": {},
     "output_type": "execute_result"
    }
   ],
   "source": [
    "# Removing an elements from a list\n",
    "foods.remove(\"Ice cream\")\n",
    "foods"
   ]
  },
  {
   "cell_type": "code",
   "execution_count": 57,
   "id": "fdb000e4",
   "metadata": {
    "ExecuteTime": {
     "end_time": "2023-03-19T14:45:29.159737Z",
     "start_time": "2023-03-19T14:45:29.147982Z"
    }
   },
   "outputs": [
    {
     "data": {
      "text/plain": [
       "['Banana', 'Sushi', 'Chocolate', 1, 2, 3, 'John']"
      ]
     },
     "execution_count": 57,
     "metadata": {},
     "output_type": "execute_result"
    }
   ],
   "source": [
    "# Remove only removes the first instance of what you try to remove\n",
    "# There were two Johns, and now only one is left\n",
    "foods.remove(\"John\")\n",
    "foods"
   ]
  },
  {
   "cell_type": "code",
   "execution_count": 58,
   "id": "62cda960",
   "metadata": {
    "ExecuteTime": {
     "end_time": "2023-03-19T14:45:29.174728Z",
     "start_time": "2023-03-19T14:45:29.161737Z"
    }
   },
   "outputs": [
    {
     "data": {
      "text/plain": [
       "[]"
      ]
     },
     "execution_count": 58,
     "metadata": {},
     "output_type": "execute_result"
    }
   ],
   "source": [
    "# Empty a list\n",
    "foods.clear()\n",
    "foods"
   ]
  },
  {
   "cell_type": "code",
   "execution_count": 59,
   "id": "85073f40",
   "metadata": {
    "ExecuteTime": {
     "end_time": "2023-03-19T14:45:29.190735Z",
     "start_time": "2023-03-19T14:45:29.178725Z"
    }
   },
   "outputs": [
    {
     "data": {
      "text/plain": [
       "[1, 2]"
      ]
     },
     "execution_count": 59,
     "metadata": {},
     "output_type": "execute_result"
    }
   ],
   "source": [
    "# Popping the last element of the list\n",
    "numbers.pop()\n",
    "numbers"
   ]
  },
  {
   "cell_type": "code",
   "execution_count": 60,
   "id": "392024ff",
   "metadata": {
    "ExecuteTime": {
     "end_time": "2023-03-19T14:45:29.206710Z",
     "start_time": "2023-03-19T14:45:29.193718Z"
    }
   },
   "outputs": [
    {
     "data": {
      "text/plain": [
       "1"
      ]
     },
     "execution_count": 60,
     "metadata": {},
     "output_type": "execute_result"
    }
   ],
   "source": [
    "# Checking if a value is in a list\n",
    "# Returns an error if it doesn't exist!\n",
    "numbers.index(2)"
   ]
  },
  {
   "cell_type": "code",
   "execution_count": 61,
   "id": "89508e93",
   "metadata": {
    "ExecuteTime": {
     "end_time": "2023-03-19T14:45:29.237691Z",
     "start_time": "2023-03-19T14:45:29.209709Z"
    }
   },
   "outputs": [
    {
     "data": {
      "text/plain": [
       "2"
      ]
     },
     "execution_count": 61,
     "metadata": {},
     "output_type": "execute_result"
    }
   ],
   "source": [
    "# Counting how many occurrences of a value there are in a list\n",
    "numbers.append(0)\n",
    "numbers.append(0)\n",
    "numbers.count(0)"
   ]
  },
  {
   "cell_type": "code",
   "execution_count": 62,
   "id": "0ebcb0aa",
   "metadata": {
    "ExecuteTime": {
     "end_time": "2023-03-19T14:45:29.253266Z",
     "start_time": "2023-03-19T14:45:29.239689Z"
    }
   },
   "outputs": [
    {
     "name": "stdout",
     "output_type": "stream",
     "text": [
      "[1, 2, 0, 0]\n",
      "[0, 0, 1, 2]\n"
     ]
    }
   ],
   "source": [
    "# Sorting numbers into ascending order\n",
    "print(numbers)\n",
    "numbers.sort()\n",
    "print(numbers)"
   ]
  },
  {
   "cell_type": "code",
   "execution_count": 63,
   "id": "8e8274d6",
   "metadata": {
    "ExecuteTime": {
     "end_time": "2023-03-19T14:45:29.268258Z",
     "start_time": "2023-03-19T14:45:29.256265Z"
    }
   },
   "outputs": [
    {
     "data": {
      "text/plain": [
       "[2, 1, 0, 0]"
      ]
     },
     "execution_count": 63,
     "metadata": {},
     "output_type": "execute_result"
    }
   ],
   "source": [
    "# Reversing the order of a list\n",
    "numbers.reverse()\n",
    "numbers"
   ]
  },
  {
   "cell_type": "code",
   "execution_count": 64,
   "id": "6bf8b7e6",
   "metadata": {
    "ExecuteTime": {
     "end_time": "2023-03-19T14:45:29.284251Z",
     "start_time": "2023-03-19T14:45:29.272261Z"
    }
   },
   "outputs": [
    {
     "data": {
      "text/plain": [
       "[2, 1, 0, 0]"
      ]
     },
     "execution_count": 64,
     "metadata": {},
     "output_type": "execute_result"
    }
   ],
   "source": [
    "# Making a copy of a list\n",
    "new_numbers = numbers.copy()\n",
    "new_numbers"
   ]
  },
  {
   "cell_type": "code",
   "execution_count": 65,
   "id": "515250fd",
   "metadata": {
    "ExecuteTime": {
     "end_time": "2023-03-19T14:45:29.300242Z",
     "start_time": "2023-03-19T14:45:29.287263Z"
    }
   },
   "outputs": [
    {
     "data": {
      "text/plain": [
       "[[1, 2, 3], [4, 5, 6], [7, 8, 9]]"
      ]
     },
     "execution_count": 65,
     "metadata": {},
     "output_type": "execute_result"
    }
   ],
   "source": [
    "# Making a 2D list (matrix)\n",
    "list_numbers = [\n",
    "    [1, 2, 3],\n",
    "    [4, 5, 6],\n",
    "    [7, 8, 9]\n",
    "]\n",
    "list_numbers"
   ]
  },
  {
   "cell_type": "code",
   "execution_count": 66,
   "id": "e9e76fb9",
   "metadata": {
    "ExecuteTime": {
     "end_time": "2023-03-19T14:45:29.315231Z",
     "start_time": "2023-03-19T14:45:29.304239Z"
    }
   },
   "outputs": [
    {
     "name": "stdout",
     "output_type": "stream",
     "text": [
      "True\n",
      "True\n"
     ]
    }
   ],
   "source": [
    "# Using any() on a list of items returns True as long as any of the items evaluate to True\n",
    "print(any(new_numbers))\n",
    "print(any(new_numbers) == 1)"
   ]
  },
  {
   "cell_type": "code",
   "execution_count": 67,
   "id": "682f1e4e",
   "metadata": {
    "ExecuteTime": {
     "end_time": "2023-03-19T14:45:29.330224Z",
     "start_time": "2023-03-19T14:45:29.318229Z"
    }
   },
   "outputs": [
    {
     "data": {
      "text/plain": [
       "[0, 1, 2, 3, 4]"
      ]
     },
     "execution_count": 67,
     "metadata": {},
     "output_type": "execute_result"
    }
   ],
   "source": [
    "# Range to list by using argument unpacking with *\n",
    "[*range(0, 5)]"
   ]
  },
  {
   "cell_type": "markdown",
   "id": "dded8105",
   "metadata": {},
   "source": [
    "## Tuples <a name=\"tuples\" />"
   ]
  },
  {
   "cell_type": "markdown",
   "id": "bb9a7b5e",
   "metadata": {},
   "source": [
    "A tuple is very similar to a list in the sense that it is a data structure capable of holding multiple pieces of information, but it has several key differences from lists."
   ]
  },
  {
   "cell_type": "code",
   "execution_count": 68,
   "id": "42d5ce49",
   "metadata": {
    "ExecuteTime": {
     "end_time": "2023-03-19T14:45:29.345214Z",
     "start_time": "2023-03-19T14:45:29.333221Z"
    }
   },
   "outputs": [],
   "source": [
    "# Tuple creation\n",
    "coords = (4, 5)"
   ]
  },
  {
   "cell_type": "code",
   "execution_count": 69,
   "id": "9359af17",
   "metadata": {
    "ExecuteTime": {
     "end_time": "2023-03-19T14:45:29.361206Z",
     "start_time": "2023-03-19T14:45:29.348228Z"
    }
   },
   "outputs": [
    {
     "data": {
      "text/plain": [
       "4"
      ]
     },
     "execution_count": 69,
     "metadata": {},
     "output_type": "execute_result"
    }
   ],
   "source": [
    "# Accessing tuples\n",
    "coords[0]"
   ]
  },
  {
   "cell_type": "code",
   "execution_count": 70,
   "id": "f03a4ea5",
   "metadata": {
    "ExecuteTime": {
     "end_time": "2023-03-19T14:45:29.377196Z",
     "start_time": "2023-03-19T14:45:29.364204Z"
    }
   },
   "outputs": [],
   "source": [
    "# Tuples are immutable, changing them does not work!\n",
    "# coords[0] = 999"
   ]
  },
  {
   "cell_type": "code",
   "execution_count": 71,
   "id": "920bff62",
   "metadata": {
    "ExecuteTime": {
     "end_time": "2023-03-19T14:45:29.392187Z",
     "start_time": "2023-03-19T14:45:29.381195Z"
    }
   },
   "outputs": [
    {
     "name": "stdout",
     "output_type": "stream",
     "text": [
      "I bought 2 apples for $7.0!\n"
     ]
    }
   ],
   "source": [
    "# Tuple unpacking\n",
    "count, fruit, price = (2, 'apple', 3.5)\n",
    "print(f\"I bought {count} {fruit}s for ${count * price}!\")"
   ]
  },
  {
   "cell_type": "markdown",
   "id": "03013813",
   "metadata": {},
   "source": [
    "## Enumerate and Zip <a name=\"enumeratezip\" />"
   ]
  },
  {
   "cell_type": "code",
   "execution_count": 72,
   "id": "2e30b35e",
   "metadata": {
    "ExecuteTime": {
     "end_time": "2023-03-19T14:45:29.408178Z",
     "start_time": "2023-03-19T14:45:29.395186Z"
    }
   },
   "outputs": [
    {
     "name": "stdout",
     "output_type": "stream",
     "text": [
      "0 a\n",
      "1 b\n",
      "2 c\n"
     ]
    }
   ],
   "source": [
    "# Basic usage of enumerate\n",
    "# The usage of two loop variables makes use of argument unpacking\n",
    "stuff = [\"a\", \"b\", \"c\"]\n",
    "for count, value in enumerate(stuff):\n",
    "    print(count, value)"
   ]
  },
  {
   "cell_type": "code",
   "execution_count": 73,
   "id": "74758b3c",
   "metadata": {
    "ExecuteTime": {
     "end_time": "2023-03-19T14:45:29.423171Z",
     "start_time": "2023-03-19T14:45:29.411176Z"
    }
   },
   "outputs": [
    {
     "name": "stdout",
     "output_type": "stream",
     "text": [
      "10 a\n",
      "11 b\n",
      "12 c\n"
     ]
    }
   ],
   "source": [
    "# Enumerate with customized count start value\n",
    "for count, value in enumerate(stuff, start=10):\n",
    "    print(count, value)"
   ]
  },
  {
   "cell_type": "code",
   "execution_count": 74,
   "id": "ad26259e",
   "metadata": {
    "ExecuteTime": {
     "end_time": "2023-03-19T14:45:29.439161Z",
     "start_time": "2023-03-19T14:45:29.426168Z"
    }
   },
   "outputs": [
    {
     "data": {
      "text/plain": [
       "[(2000, 'a'), (2001, 'b'), (2002, 'c')]"
      ]
     },
     "execution_count": 74,
     "metadata": {},
     "output_type": "execute_result"
    }
   ],
   "source": [
    "# Enumeration saved to a list, without a loop\n",
    "list(enumerate(stuff, 2000))"
   ]
  },
  {
   "cell_type": "code",
   "execution_count": 75,
   "id": "8de5401a",
   "metadata": {
    "ExecuteTime": {
     "end_time": "2023-03-19T14:45:29.455161Z",
     "start_time": "2023-03-19T14:45:29.442179Z"
    }
   },
   "outputs": [
    {
     "name": "stdout",
     "output_type": "stream",
     "text": [
      "0 5\n",
      "1 cookie\n",
      "2 [1, 2]\n"
     ]
    }
   ],
   "source": [
    "# Enumerate on a tuple\n",
    "things = (5, \"cookie\", [1, 2])\n",
    "for count, value in enumerate(things):\n",
    "    print(count, value)"
   ]
  },
  {
   "cell_type": "code",
   "execution_count": 76,
   "id": "ada1a7c3",
   "metadata": {
    "ExecuteTime": {
     "end_time": "2023-03-19T14:45:29.471152Z",
     "start_time": "2023-03-19T14:45:29.459149Z"
    }
   },
   "outputs": [
    {
     "name": "stdout",
     "output_type": "stream",
     "text": [
      "(0, 'a')\n",
      "(1, 'b')\n",
      "(2, 'c')\n"
     ]
    }
   ],
   "source": [
    "# Using only a single loop variable returns tuples of the count and related values\n",
    "for i in enumerate(stuff):\n",
    "    print(i)"
   ]
  },
  {
   "cell_type": "code",
   "execution_count": 77,
   "id": "f6013eeb",
   "metadata": {
    "ExecuteTime": {
     "end_time": "2023-03-19T14:45:29.487143Z",
     "start_time": "2023-03-19T14:45:29.474142Z"
    }
   },
   "outputs": [
    {
     "name": "stdout",
     "output_type": "stream",
     "text": [
      "a d g\n",
      "b e h\n",
      "c f i\n"
     ]
    }
   ],
   "source": [
    "# Iterating through two or more sequences with zip\n",
    "first = [\"a\", \"b\", \"c\"]\n",
    "second = [\"d\", \"e\", \"f\"]\n",
    "third = [\"g\", \"h\", \"i\"]\n",
    "\n",
    "for x, y, z in zip(first, second, third):\n",
    "    print(x, y, z)"
   ]
  },
  {
   "cell_type": "code",
   "execution_count": 78,
   "id": "c3600c45",
   "metadata": {
    "ExecuteTime": {
     "end_time": "2023-03-19T14:45:29.503124Z",
     "start_time": "2023-03-19T14:45:29.490131Z"
    }
   },
   "outputs": [
    {
     "name": "stdout",
     "output_type": "stream",
     "text": [
      "0 a d g\n",
      "1 b e h\n",
      "2 c f i\n"
     ]
    }
   ],
   "source": [
    "# Combining enumerate and zip using nested argument unpacking\n",
    "for count, (x, y, z) in enumerate(zip(first, second, third)):\n",
    "    print(count, x, y, z)"
   ]
  },
  {
   "cell_type": "code",
   "execution_count": 79,
   "id": "b07962fa",
   "metadata": {
    "ExecuteTime": {
     "end_time": "2023-03-19T14:45:29.519115Z",
     "start_time": "2023-03-19T14:45:29.506122Z"
    }
   },
   "outputs": [
    {
     "name": "stdout",
     "output_type": "stream",
     "text": [
      "0 a d g\n",
      "1 b e h\n",
      "2 c f i\n"
     ]
    }
   ],
   "source": [
    "# Emulating the combined enumerate and zip behaviour using itertools.count()\n",
    "for count, x, y, z in zip(itertools.count(), first, second, third):\n",
    "    print(count, x, y, z)"
   ]
  },
  {
   "cell_type": "markdown",
   "id": "649535ce",
   "metadata": {},
   "source": [
    "## Functions <a name=\"functions\" />"
   ]
  },
  {
   "cell_type": "code",
   "execution_count": 80,
   "id": "842039ac",
   "metadata": {
    "ExecuteTime": {
     "end_time": "2023-03-19T14:45:29.535106Z",
     "start_time": "2023-03-19T14:45:29.523130Z"
    }
   },
   "outputs": [],
   "source": [
    "# Defining a function\n",
    "def say_hi():\n",
    "    print(\"Hi!\")"
   ]
  },
  {
   "cell_type": "code",
   "execution_count": 81,
   "id": "9970b677",
   "metadata": {
    "ExecuteTime": {
     "end_time": "2023-03-19T14:45:29.550097Z",
     "start_time": "2023-03-19T14:45:29.539103Z"
    }
   },
   "outputs": [
    {
     "name": "stdout",
     "output_type": "stream",
     "text": [
      "Hi!\n"
     ]
    }
   ],
   "source": [
    "# Calling a function\n",
    "say_hi()"
   ]
  },
  {
   "cell_type": "code",
   "execution_count": 82,
   "id": "d6991b4b",
   "metadata": {
    "ExecuteTime": {
     "end_time": "2023-03-19T14:45:29.582079Z",
     "start_time": "2023-03-19T14:45:29.568086Z"
    }
   },
   "outputs": [],
   "source": [
    "# Defining a function with parameters\n",
    "def say_something(stuff):\n",
    "    print(stuff)"
   ]
  },
  {
   "cell_type": "code",
   "execution_count": 83,
   "id": "422f798f",
   "metadata": {
    "ExecuteTime": {
     "end_time": "2023-03-19T14:45:29.598069Z",
     "start_time": "2023-03-19T14:45:29.587077Z"
    }
   },
   "outputs": [
    {
     "name": "stdout",
     "output_type": "stream",
     "text": [
      "Awooga!\n"
     ]
    }
   ],
   "source": [
    "# Calling a function with parameters\n",
    "say_something(\"Awooga!\")"
   ]
  },
  {
   "cell_type": "code",
   "execution_count": 84,
   "id": "7d3f0d56",
   "metadata": {
    "ExecuteTime": {
     "end_time": "2023-03-19T14:45:29.630052Z",
     "start_time": "2023-03-19T14:45:29.602067Z"
    }
   },
   "outputs": [],
   "source": [
    "# Defining a function with multiple parameters that returns something\n",
    "def add_numbers(num1, num2):\n",
    "    product = num1 + num2\n",
    "    return product"
   ]
  },
  {
   "cell_type": "code",
   "execution_count": 85,
   "id": "a937ef11",
   "metadata": {
    "ExecuteTime": {
     "end_time": "2023-03-19T14:45:29.645042Z",
     "start_time": "2023-03-19T14:45:29.634049Z"
    }
   },
   "outputs": [
    {
     "data": {
      "text/plain": [
       "7"
      ]
     },
     "execution_count": 85,
     "metadata": {},
     "output_type": "execute_result"
    }
   ],
   "source": [
    "# Calling the return function\n",
    "result = add_numbers(3, 4)\n",
    "result"
   ]
  },
  {
   "cell_type": "markdown",
   "id": "d4b7131a",
   "metadata": {},
   "source": [
    "## Conditionals <a name=\"conditionals\" />"
   ]
  },
  {
   "cell_type": "code",
   "execution_count": 86,
   "id": "335752a7",
   "metadata": {
    "ExecuteTime": {
     "end_time": "2023-03-19T14:45:29.660034Z",
     "start_time": "2023-03-19T14:45:29.649044Z"
    }
   },
   "outputs": [
    {
     "name": "stdout",
     "output_type": "stream",
     "text": [
      "Yep\n"
     ]
    }
   ],
   "source": [
    "# Example of a onditional \n",
    "if 999 > 1:\n",
    "    print(\"Yep\")"
   ]
  },
  {
   "cell_type": "code",
   "execution_count": 87,
   "id": "3c596af4",
   "metadata": {
    "ExecuteTime": {
     "end_time": "2023-03-19T14:45:29.676025Z",
     "start_time": "2023-03-19T14:45:29.664033Z"
    }
   },
   "outputs": [
    {
     "name": "stdout",
     "output_type": "stream",
     "text": [
      "Yep\n"
     ]
    }
   ],
   "source": [
    "# A true condition will access the if statement's code\n",
    "if True:\n",
    "    print(\"Yep\")"
   ]
  },
  {
   "cell_type": "code",
   "execution_count": 88,
   "id": "613b9992",
   "metadata": {
    "ExecuteTime": {
     "end_time": "2023-03-19T14:45:29.692015Z",
     "start_time": "2023-03-19T14:45:29.679024Z"
    }
   },
   "outputs": [],
   "source": [
    "# A false condition will not access the if statement's code\n",
    "if False:\n",
    "    print(\"Nope\")"
   ]
  },
  {
   "cell_type": "code",
   "execution_count": 89,
   "id": "cb90193e",
   "metadata": {
    "ExecuteTime": {
     "end_time": "2023-03-19T14:45:29.708006Z",
     "start_time": "2023-03-19T14:45:29.696015Z"
    }
   },
   "outputs": [
    {
     "name": "stdout",
     "output_type": "stream",
     "text": [
      "Nope\n"
     ]
    }
   ],
   "source": [
    "# If else statement\n",
    "if 1 > 999:\n",
    "    print(\"Yep\")\n",
    "else:\n",
    "    print(\"Nope\")"
   ]
  },
  {
   "cell_type": "code",
   "execution_count": 90,
   "id": "c4bf4d02",
   "metadata": {
    "ExecuteTime": {
     "end_time": "2023-03-19T14:45:29.723000Z",
     "start_time": "2023-03-19T14:45:29.712005Z"
    }
   },
   "outputs": [
    {
     "name": "stdout",
     "output_type": "stream",
     "text": [
      "Yep\n"
     ]
    }
   ],
   "source": [
    "# Adding multiple conditions (logical OR)\n",
    "if 1 > 5 or 1 < 5:\n",
    "    print(\"Yep\")"
   ]
  },
  {
   "cell_type": "code",
   "execution_count": 91,
   "id": "be64908f",
   "metadata": {
    "ExecuteTime": {
     "end_time": "2023-03-19T14:45:29.738990Z",
     "start_time": "2023-03-19T14:45:29.725998Z"
    }
   },
   "outputs": [],
   "source": [
    "# Adding multiple conditions (logical AND)\n",
    "if 1 > 5 and 1 < 5:\n",
    "    print(\"Nope\")"
   ]
  },
  {
   "cell_type": "code",
   "execution_count": 92,
   "id": "48298f3b",
   "metadata": {
    "ExecuteTime": {
     "end_time": "2023-03-19T14:45:29.753982Z",
     "start_time": "2023-03-19T14:45:29.741987Z"
    }
   },
   "outputs": [
    {
     "name": "stdout",
     "output_type": "stream",
     "text": [
      "Yep\n"
     ]
    }
   ],
   "source": [
    "# Ampersand represents the logical AND as well\n",
    "if True & True:\n",
    "    print(\"Yep\")"
   ]
  },
  {
   "cell_type": "code",
   "execution_count": 93,
   "id": "71d08190",
   "metadata": {
    "ExecuteTime": {
     "end_time": "2023-03-19T14:45:29.784963Z",
     "start_time": "2023-03-19T14:45:29.756980Z"
    }
   },
   "outputs": [
    {
     "name": "stdout",
     "output_type": "stream",
     "text": [
      "Yep\n"
     ]
    }
   ],
   "source": [
    "# Adding multiple conditions (logical AND NOT)\n",
    "if 1 < 5 and not 1 > 5:\n",
    "    print(\"Yep\")"
   ]
  },
  {
   "cell_type": "code",
   "execution_count": 94,
   "id": "2d46e609",
   "metadata": {
    "ExecuteTime": {
     "end_time": "2023-03-19T14:45:29.799954Z",
     "start_time": "2023-03-19T14:45:29.787963Z"
    }
   },
   "outputs": [
    {
     "name": "stdout",
     "output_type": "stream",
     "text": [
      "Yep\n"
     ]
    }
   ],
   "source": [
    "# Elif and elif not conditions\n",
    "if False:\n",
    "    print(\"Nope\")\n",
    "elif not True:\n",
    "    print(\"Nope\")\n",
    "elif True:\n",
    "    print(\"Yep\")\n",
    "else:\n",
    "    print(\"Maybe?\")"
   ]
  },
  {
   "cell_type": "code",
   "execution_count": 95,
   "id": "dd6f2b80",
   "metadata": {
    "ExecuteTime": {
     "end_time": "2023-03-19T14:45:29.815946Z",
     "start_time": "2023-03-19T14:45:29.802953Z"
    }
   },
   "outputs": [
    {
     "data": {
      "text/plain": [
       "True"
      ]
     },
     "execution_count": 95,
     "metadata": {},
     "output_type": "execute_result"
    }
   ],
   "source": [
    "# Logical NOT operator with exclamation mark\n",
    "1 != 2"
   ]
  },
  {
   "cell_type": "markdown",
   "id": "c5067a1f",
   "metadata": {},
   "source": [
    "## Dictionaries <a name=\"dictionaries\" />"
   ]
  },
  {
   "cell_type": "code",
   "execution_count": 96,
   "id": "5c9b2bdd",
   "metadata": {
    "ExecuteTime": {
     "end_time": "2023-03-19T14:45:29.831935Z",
     "start_time": "2023-03-19T14:45:29.818944Z"
    }
   },
   "outputs": [
    {
     "data": {
      "text/plain": [
       "{0: 'January', 1: 'February', 2: 'March'}"
      ]
     },
     "execution_count": 96,
     "metadata": {},
     "output_type": "execute_result"
    }
   ],
   "source": [
    "# Creating a dictionary with key:value pairs\n",
    "# Keys have to be unique!\n",
    "months = {\n",
    "    0: \"January\",\n",
    "    1: \"February\",\n",
    "    2: \"March\"\n",
    "}\n",
    "\n",
    "months"
   ]
  },
  {
   "cell_type": "code",
   "execution_count": 97,
   "id": "ac31772e",
   "metadata": {
    "ExecuteTime": {
     "end_time": "2023-03-19T14:45:29.847926Z",
     "start_time": "2023-03-19T14:45:29.834935Z"
    }
   },
   "outputs": [
    {
     "data": {
      "text/plain": [
       "'January'"
      ]
     },
     "execution_count": 97,
     "metadata": {},
     "output_type": "execute_result"
    }
   ],
   "source": [
    "# Dictionary indexing\n",
    "months[0]"
   ]
  },
  {
   "cell_type": "code",
   "execution_count": 98,
   "id": "faac8996",
   "metadata": {
    "ExecuteTime": {
     "end_time": "2023-03-19T14:45:29.863918Z",
     "start_time": "2023-03-19T14:45:29.850925Z"
    }
   },
   "outputs": [
    {
     "data": {
      "text/plain": [
       "'January'"
      ]
     },
     "execution_count": 98,
     "metadata": {},
     "output_type": "execute_result"
    }
   ],
   "source": [
    "# Using .get()\n",
    "months.get(0)"
   ]
  },
  {
   "cell_type": "code",
   "execution_count": 99,
   "id": "c8c2a3ba",
   "metadata": {
    "ExecuteTime": {
     "end_time": "2023-03-19T14:45:29.879908Z",
     "start_time": "2023-03-19T14:45:29.866917Z"
    }
   },
   "outputs": [
    {
     "data": {
      "text/plain": [
       "'Key not found'"
      ]
     },
     "execution_count": 99,
     "metadata": {},
     "output_type": "execute_result"
    }
   ],
   "source": [
    "# Using .get() and implementing a default value\n",
    "months.get(999, \"Key not found\")"
   ]
  },
  {
   "cell_type": "markdown",
   "id": "bde6dd86",
   "metadata": {},
   "source": [
    "## Loops <a name=\"loops\" />"
   ]
  },
  {
   "cell_type": "code",
   "execution_count": 100,
   "id": "30972e15",
   "metadata": {
    "ExecuteTime": {
     "end_time": "2023-03-19T14:45:29.894917Z",
     "start_time": "2023-03-19T14:45:29.882907Z"
    }
   },
   "outputs": [
    {
     "name": "stdout",
     "output_type": "stream",
     "text": [
      "1\n",
      "2\n",
      "3\n",
      "4\n",
      "5\n"
     ]
    }
   ],
   "source": [
    "# While loop\n",
    "i = 1\n",
    "while i <= 5:\n",
    "    print(i)\n",
    "    i += 1"
   ]
  },
  {
   "cell_type": "code",
   "execution_count": 101,
   "id": "7bcd3062",
   "metadata": {
    "ExecuteTime": {
     "end_time": "2023-03-19T14:45:29.910904Z",
     "start_time": "2023-03-19T14:45:29.898898Z"
    }
   },
   "outputs": [
    {
     "name": "stdout",
     "output_type": "stream",
     "text": [
      "A\n",
      "p\n",
      "p\n",
      "l\n",
      "e\n"
     ]
    }
   ],
   "source": [
    "# For loop\n",
    "for i in \"Apple\":\n",
    "    print(i)"
   ]
  },
  {
   "cell_type": "code",
   "execution_count": 102,
   "id": "c8e95ec0",
   "metadata": {
    "ExecuteTime": {
     "end_time": "2023-03-19T14:45:29.926881Z",
     "start_time": "2023-03-19T14:45:29.914907Z"
    }
   },
   "outputs": [
    {
     "name": "stdout",
     "output_type": "stream",
     "text": [
      "Mug\n",
      "Pen\n",
      "Paper\n"
     ]
    }
   ],
   "source": [
    "# For loop over a list of items\n",
    "stuff = [\"Mug\", \"Pen\", \"Paper\"]\n",
    "for i in stuff:\n",
    "    print(i)"
   ]
  },
  {
   "cell_type": "code",
   "execution_count": 103,
   "id": "cce261b5",
   "metadata": {
    "ExecuteTime": {
     "end_time": "2023-03-19T14:45:29.956865Z",
     "start_time": "2023-03-19T14:45:29.929880Z"
    }
   },
   "outputs": [
    {
     "name": "stdout",
     "output_type": "stream",
     "text": [
      "0\n",
      "1\n",
      "2\n",
      "3\n",
      "4\n"
     ]
    }
   ],
   "source": [
    "# For loop with a range\n",
    "for i in range(5):\n",
    "    print(i)"
   ]
  },
  {
   "cell_type": "code",
   "execution_count": 104,
   "id": "e64dbefe",
   "metadata": {
    "ExecuteTime": {
     "end_time": "2023-03-19T14:45:29.971857Z",
     "start_time": "2023-03-19T14:45:29.959864Z"
    }
   },
   "outputs": [
    {
     "name": "stdout",
     "output_type": "stream",
     "text": [
      "3\n",
      "4\n"
     ]
    }
   ],
   "source": [
    "# For loop with a range\n",
    "for i in range(3, 5):\n",
    "    print(i)"
   ]
  },
  {
   "cell_type": "code",
   "execution_count": 105,
   "id": "65773b2b",
   "metadata": {
    "ExecuteTime": {
     "end_time": "2023-03-19T14:45:29.987846Z",
     "start_time": "2023-03-19T14:45:29.974854Z"
    }
   },
   "outputs": [
    {
     "name": "stdout",
     "output_type": "stream",
     "text": [
      "Mug\n",
      "Pen\n",
      "Paper\n"
     ]
    }
   ],
   "source": [
    "# For loop over a list of items with range\n",
    "for i in range(len(stuff)):\n",
    "    print(stuff[i])"
   ]
  },
  {
   "cell_type": "code",
   "execution_count": 106,
   "id": "7d26a224",
   "metadata": {
    "ExecuteTime": {
     "end_time": "2023-03-19T14:45:30.003839Z",
     "start_time": "2023-03-19T14:45:29.991845Z"
    }
   },
   "outputs": [
    {
     "name": "stdout",
     "output_type": "stream",
     "text": [
      "0 is cool\n",
      "3 is cool\n",
      "6 is cool\n",
      "9 is cool\n"
     ]
    }
   ],
   "source": [
    "# For loop and conditionals combined\n",
    "for i in range(10):\n",
    "    if i % 3 == 0:\n",
    "        print(f\"{i} is cool\")"
   ]
  },
  {
   "cell_type": "code",
   "execution_count": 107,
   "id": "eb1cd1f6",
   "metadata": {
    "ExecuteTime": {
     "end_time": "2023-03-19T14:45:30.019828Z",
     "start_time": "2023-03-19T14:45:30.005837Z"
    }
   },
   "outputs": [
    {
     "name": "stdout",
     "output_type": "stream",
     "text": [
      "1\n",
      "2\n",
      "3\n",
      "4\n",
      "5\n",
      "6\n",
      "7\n",
      "8\n",
      "9\n"
     ]
    }
   ],
   "source": [
    "# 2D list and nested loop\n",
    "number_grid = [\n",
    "    [1, 2, 3],\n",
    "    [4, 5, 6],\n",
    "    [7, 8, 9]\n",
    "]\n",
    "\n",
    "for i in number_grid:\n",
    "    for j in i:\n",
    "        print(j)"
   ]
  },
  {
   "cell_type": "markdown",
   "id": "18c3ae52",
   "metadata": {},
   "source": [
    "## External Files <a name=\"files\" />"
   ]
  },
  {
   "cell_type": "code",
   "execution_count": 108,
   "id": "6d6954ae",
   "metadata": {
    "ExecuteTime": {
     "end_time": "2023-03-19T14:45:30.034820Z",
     "start_time": "2023-03-19T14:45:30.022827Z"
    }
   },
   "outputs": [
    {
     "data": {
      "text/plain": [
       "<_io.TextIOWrapper name='fruit.txt' mode='r' encoding='cp1252'>"
      ]
     },
     "execution_count": 108,
     "metadata": {},
     "output_type": "execute_result"
    }
   ],
   "source": [
    "# Opening a text file as read-only\n",
    "fruits = open(\"fruit.txt\", \"r\")\n",
    "fruits"
   ]
  },
  {
   "cell_type": "code",
   "execution_count": 109,
   "id": "4dc83083",
   "metadata": {
    "ExecuteTime": {
     "end_time": "2023-03-19T14:45:30.049811Z",
     "start_time": "2023-03-19T14:45:30.038818Z"
    }
   },
   "outputs": [
    {
     "data": {
      "text/plain": [
       "True"
      ]
     },
     "execution_count": 109,
     "metadata": {},
     "output_type": "execute_result"
    }
   ],
   "source": [
    "# Checking if a file is readable\n",
    "fruits.readable()"
   ]
  },
  {
   "cell_type": "code",
   "execution_count": 110,
   "id": "534cc067",
   "metadata": {
    "ExecuteTime": {
     "end_time": "2023-03-19T14:45:30.065822Z",
     "start_time": "2023-03-19T14:45:30.052810Z"
    }
   },
   "outputs": [
    {
     "data": {
      "text/plain": [
       "'Banana\\nApple\\nPomelo\\nKiwi\\nPear\\nLychee\\nLychee\\nLychee\\nLychee\\nLychee'"
      ]
     },
     "execution_count": 110,
     "metadata": {},
     "output_type": "execute_result"
    }
   ],
   "source": [
    "# Reading a file\n",
    "fruits.read()"
   ]
  },
  {
   "cell_type": "code",
   "execution_count": 111,
   "id": "7840d4a7",
   "metadata": {
    "ExecuteTime": {
     "end_time": "2023-03-19T14:45:30.080804Z",
     "start_time": "2023-03-19T14:45:30.069801Z"
    }
   },
   "outputs": [
    {
     "data": {
      "text/plain": [
       "['Banana\\n',\n",
       " 'Apple\\n',\n",
       " 'Pomelo\\n',\n",
       " 'Kiwi\\n',\n",
       " 'Pear\\n',\n",
       " 'Lychee\\n',\n",
       " 'Lychee\\n',\n",
       " 'Lychee\\n',\n",
       " 'Lychee\\n',\n",
       " 'Lychee']"
      ]
     },
     "execution_count": 111,
     "metadata": {},
     "output_type": "execute_result"
    }
   ],
   "source": [
    "# Opening a text file and reading all lines\n",
    "# \"r\" is the read permission\n",
    "fruits = open(\"fruit.txt\", \"r\")\n",
    "fruits.readlines()"
   ]
  },
  {
   "cell_type": "code",
   "execution_count": 112,
   "id": "e6e10d86",
   "metadata": {
    "ExecuteTime": {
     "end_time": "2023-03-19T14:45:30.095795Z",
     "start_time": "2023-03-19T14:45:30.083793Z"
    }
   },
   "outputs": [],
   "source": [
    "# Closing a file\n",
    "fruits.close()"
   ]
  },
  {
   "cell_type": "code",
   "execution_count": 113,
   "id": "fa048de7",
   "metadata": {
    "ExecuteTime": {
     "end_time": "2023-03-19T14:45:30.111777Z",
     "start_time": "2023-03-19T14:45:30.099786Z"
    }
   },
   "outputs": [],
   "source": [
    "# Writing to a file\n",
    "# \"w\" is the write permission, will overwrite file's previous contents\n",
    "cool = open(\"coolfile.txt\", \"w\")\n",
    "cool.write(\"This file is cool!\")\n",
    "cool.close()"
   ]
  },
  {
   "cell_type": "code",
   "execution_count": 114,
   "id": "43e8dc29",
   "metadata": {
    "ExecuteTime": {
     "end_time": "2023-03-19T14:45:30.127767Z",
     "start_time": "2023-03-19T14:45:30.115774Z"
    }
   },
   "outputs": [],
   "source": [
    "# Appending to a file\n",
    "fruits = open(\"fruit.txt\", \"a\")\n",
    "fruits.write(\"\\nLychee\")\n",
    "fruits.close()"
   ]
  },
  {
   "cell_type": "markdown",
   "id": "3ccb0932",
   "metadata": {},
   "source": [
    "## Classes <a name=\"classes\" />"
   ]
  },
  {
   "cell_type": "code",
   "execution_count": 115,
   "id": "7b57319f",
   "metadata": {
    "ExecuteTime": {
     "end_time": "2023-03-19T14:45:30.143776Z",
     "start_time": "2023-03-19T14:45:30.131768Z"
    }
   },
   "outputs": [],
   "source": [
    "# Creating a class\n",
    "class Student():\n",
    "    def __init__(self, name, age):\n",
    "        self.name = name\n",
    "        self.age = age"
   ]
  },
  {
   "cell_type": "code",
   "execution_count": 116,
   "id": "a262f910",
   "metadata": {
    "ExecuteTime": {
     "end_time": "2023-03-19T14:45:30.159749Z",
     "start_time": "2023-03-19T14:45:30.148756Z"
    }
   },
   "outputs": [],
   "source": [
    "# Creating an instance of a class\n",
    "bob = Student(\"Bob\", 20)"
   ]
  },
  {
   "cell_type": "code",
   "execution_count": 117,
   "id": "c331da65",
   "metadata": {
    "ExecuteTime": {
     "end_time": "2023-03-19T14:45:30.174741Z",
     "start_time": "2023-03-19T14:45:30.162748Z"
    }
   },
   "outputs": [
    {
     "name": "stdout",
     "output_type": "stream",
     "text": [
      "Bob 20\n"
     ]
    }
   ],
   "source": [
    "# Grabbing class instance attributes\n",
    "print(bob.name, bob.age)"
   ]
  },
  {
   "cell_type": "code",
   "execution_count": 118,
   "id": "d4ba0529",
   "metadata": {
    "ExecuteTime": {
     "end_time": "2023-03-19T14:45:30.189731Z",
     "start_time": "2023-03-19T14:45:30.177944Z"
    }
   },
   "outputs": [],
   "source": [
    "# Creating a class with a function\n",
    "class Cheese():\n",
    "    def __init__(self, name, age):\n",
    "        self.name = name\n",
    "        self.age = age\n",
    "        \n",
    "    def is_old(self):\n",
    "        return True if self.age > 40 else False"
   ]
  },
  {
   "cell_type": "code",
   "execution_count": 119,
   "id": "32a6658b",
   "metadata": {
    "ExecuteTime": {
     "end_time": "2023-03-19T14:45:30.204722Z",
     "start_time": "2023-03-19T14:45:30.193730Z"
    }
   },
   "outputs": [],
   "source": [
    "# Creating an instance of a class\n",
    "beemster = Cheese(\"Beemster\", 48)"
   ]
  },
  {
   "cell_type": "code",
   "execution_count": 120,
   "id": "26da8cd7",
   "metadata": {
    "ExecuteTime": {
     "end_time": "2023-03-19T14:45:30.220713Z",
     "start_time": "2023-03-19T14:45:30.206723Z"
    }
   },
   "outputs": [
    {
     "data": {
      "text/plain": [
       "True"
      ]
     },
     "execution_count": 120,
     "metadata": {},
     "output_type": "execute_result"
    }
   ],
   "source": [
    "# Calling a class function of an instance\n",
    "beemster.is_old()"
   ]
  },
  {
   "cell_type": "code",
   "execution_count": 121,
   "id": "11c0a0af",
   "metadata": {
    "ExecuteTime": {
     "end_time": "2023-03-19T14:45:30.236704Z",
     "start_time": "2023-03-19T14:45:30.222713Z"
    }
   },
   "outputs": [
    {
     "name": "stdout",
     "output_type": "stream",
     "text": [
      "The chef makes some chicken!\n",
      "The chef makes some beef!\n",
      "The chef makes some chicken!\n",
      "The chef makes some beef!\n",
      "The chef makes some rice!\n",
      "Hans\n"
     ]
    }
   ],
   "source": [
    "# Inheritance\n",
    "class Chef():\n",
    "    def __init__(self, name):\n",
    "        self.name = name\n",
    "    def make_chicken(self):\n",
    "        print(\"The chef makes some chicken!\")\n",
    "        \n",
    "    def make_beef(self):\n",
    "        print(\"The chef makes some beef!\")\n",
    "        \n",
    "class ChineseChef(Chef):\n",
    "    def make_rice(self):\n",
    "        print(\"The chef makes some rice!\")\n",
    "    \n",
    "    def return_name(self):\n",
    "        print(self.name)\n",
    "        \n",
    "chef1 = Chef(\"John\")\n",
    "chef2 = ChineseChef(\"Hans\")\n",
    "\n",
    "chef1.make_chicken()\n",
    "chef1.make_beef()\n",
    "\n",
    "chef2.make_chicken()\n",
    "chef2.make_beef()\n",
    "chef2.make_rice()\n",
    "chef2.return_name()"
   ]
  },
  {
   "cell_type": "code",
   "execution_count": 122,
   "id": "19031282",
   "metadata": {
    "ExecuteTime": {
     "end_time": "2023-03-19T14:45:30.252695Z",
     "start_time": "2023-03-19T14:45:30.239706Z"
    }
   },
   "outputs": [
    {
     "name": "stdout",
     "output_type": "stream",
     "text": [
      "B.f <__main__.B object at 0x0000012B14BBCB20>\n",
      "A.f <__main__.B object at 0x0000012B14BBCB20>\n"
     ]
    }
   ],
   "source": [
    "# Calling inherited functions with super()\n",
    "class A():\n",
    "    def f(self):\n",
    "        print(\"A.f\", self)\n",
    "        \n",
    "class B(A):\n",
    "    def f(self):\n",
    "        print(\"B.f\", self)\n",
    "        super().f()\n",
    "        \n",
    "b = B()\n",
    "b.f()"
   ]
  },
  {
   "cell_type": "code",
   "execution_count": 123,
   "id": "7ef1e733",
   "metadata": {
    "ExecuteTime": {
     "end_time": "2023-03-19T14:45:30.268686Z",
     "start_time": "2023-03-19T14:45:30.255694Z"
    }
   },
   "outputs": [
    {
     "name": "stdout",
     "output_type": "stream",
     "text": [
      "B.f <__main__.B object at 0x0000012B14BCEFD0>\n",
      "Root.f <__main__.B object at 0x0000012B14BCEFD0>\n"
     ]
    }
   ],
   "source": [
    "# Super() does not refer to parent, but to the next in line!\n",
    "class Root():\n",
    "    def f(self):\n",
    "        print(\"Root.f\", self)\n",
    "        \n",
    "class A(Root):\n",
    "    pass\n",
    "\n",
    "class B(A):\n",
    "    def f(self):\n",
    "        print(\"B.f\", self)\n",
    "        super().f()\n",
    "        \n",
    "b = B()\n",
    "b.f()"
   ]
  },
  {
   "cell_type": "code",
   "execution_count": 124,
   "id": "def8f99f",
   "metadata": {
    "ExecuteTime": {
     "end_time": "2023-03-19T14:45:30.284678Z",
     "start_time": "2023-03-19T14:45:30.270686Z"
    }
   },
   "outputs": [
    {
     "name": "stdout",
     "output_type": "stream",
     "text": [
      "C.f <__main__.C object at 0x0000012B14BC90A0>\n",
      "A.f <__main__.C object at 0x0000012B14BC90A0>\n",
      "Cool! <__main__.C object at 0x0000012B14BC90A0>\n"
     ]
    }
   ],
   "source": [
    "# Super()'s next in line follows a Method Resolution Order (MRO)\n",
    "# Thus, super().f() of C can only ever use A's .f() method as it's first in line\n",
    "# Using super().cool() skips over B as it has no .cool() method and uses A's method instead\n",
    "class A():\n",
    "    def f(self):\n",
    "        print(\"A.f\", self)\n",
    "        \n",
    "    def cool(self):\n",
    "        print(\"Cool!\", self)\n",
    "        \n",
    "class B():\n",
    "    def f(self):\n",
    "        print(\"B.f\", self)\n",
    "        \n",
    "class C(A, B):\n",
    "    def f(self):\n",
    "        print(\"C.f\", self)\n",
    "        super().f()\n",
    "        super().cool()\n",
    "        \n",
    "c = C()\n",
    "c.f()"
   ]
  },
  {
   "cell_type": "code",
   "execution_count": 125,
   "id": "dde495a8",
   "metadata": {
    "ExecuteTime": {
     "end_time": "2023-03-19T14:45:30.300678Z",
     "start_time": "2023-03-19T14:45:30.288692Z"
    }
   },
   "outputs": [
    {
     "name": "stdout",
     "output_type": "stream",
     "text": [
      "C.f <__main__.C object at 0x0000012B14BD14F0>\n",
      "A.f <__main__.C object at 0x0000012B14BD14F0>\n",
      "B.f <__main__.C object at 0x0000012B14BD14F0>\n"
     ]
    }
   ],
   "source": [
    "# Here, the super().f() of A does not call the .f() of its parent Root\n",
    "# Instead, it calls the .f() of B, which is its sibling in terms of inheritance\n",
    "# If B had a .super().f() call as well, it would call the .f() of Root\n",
    "class Root():\n",
    "    def f(self):\n",
    "        print(\"Root.f\", self)\n",
    "        \n",
    "class A(Root):\n",
    "    def f(self):\n",
    "        print(\"A.f\", self)\n",
    "        super().f()\n",
    "        \n",
    "class B(Root):\n",
    "    def f(self):\n",
    "        print(\"B.f\", self)\n",
    "        \n",
    "class C(A, B):\n",
    "    def f(self):\n",
    "        print(\"C.f\", self)\n",
    "        super().f()\n",
    "        \n",
    "c = C()\n",
    "c.f()"
   ]
  },
  {
   "cell_type": "code",
   "execution_count": 126,
   "id": "ee0ad269",
   "metadata": {
    "ExecuteTime": {
     "end_time": "2023-03-19T14:45:30.316658Z",
     "start_time": "2023-03-19T14:45:30.303669Z"
    }
   },
   "outputs": [
    {
     "name": "stdout",
     "output_type": "stream",
     "text": [
      "[<class '__main__.C'>, <class '__main__.A'>, <class '__main__.B'>, <class '__main__.Root'>, <class 'object'>]\n",
      "(<class '__main__.C'>, <class '__main__.A'>, <class '__main__.B'>, <class '__main__.Root'>, <class 'object'>)\n"
     ]
    }
   ],
   "source": [
    "# Checking MRO of a class as a list\n",
    "print(C.mro())\n",
    "# Checking MRO of a class as a tuple\n",
    "print(C.__mro__)"
   ]
  },
  {
   "cell_type": "code",
   "execution_count": 127,
   "id": "ef460599",
   "metadata": {
    "ExecuteTime": {
     "end_time": "2023-03-19T14:45:30.332650Z",
     "start_time": "2023-03-19T14:45:30.319658Z"
    }
   },
   "outputs": [
    {
     "name": "stdout",
     "output_type": "stream",
     "text": [
      "I have 3 sides!\n"
     ]
    }
   ],
   "source": [
    "# Abstract classes provide a 'blueprint' that can be inherited by other classes\n",
    "# Its methods must be overridden, guaranteeing that the inheriting class defines those methods\n",
    "class Polygon(ABC):\n",
    "    @abstractmethod\n",
    "    def nsides(self):\n",
    "        pass\n",
    "    \n",
    "class Triangle(Polygon):\n",
    "    def nsides(self):\n",
    "        print(\"I have 3 sides!\")\n",
    "        \n",
    "triangle = Triangle()\n",
    "triangle.nsides()"
   ]
  },
  {
   "cell_type": "code",
   "execution_count": 128,
   "id": "8fc4e283",
   "metadata": {
    "ExecuteTime": {
     "end_time": "2023-03-19T14:45:30.348562Z",
     "start_time": "2023-03-19T14:45:30.335650Z"
    }
   },
   "outputs": [
    {
     "name": "stdout",
     "output_type": "stream",
     "text": [
      "True\n",
      "True\n",
      "True\n",
      "True\n"
     ]
    }
   ],
   "source": [
    "# Classmethods and staticmethods\n",
    "# Both types of methods are bound to the class and can be used without creating an instance of the class\n",
    "# Staticmethods are unable to access or modify the class state and are used as utility methods\n",
    "# Classmethods have access to the class state and uses a cls parameter to point to the class state over an object instance\n",
    "class Person():\n",
    "    cool = True\n",
    "    def __init__(self, name, age):\n",
    "        self.name = name\n",
    "        self.age = age\n",
    "        \n",
    "    @classmethod\n",
    "    def is_cool(cls):\n",
    "        return cls.cool\n",
    "        \n",
    "    @staticmethod\n",
    "    def isAdult(age):\n",
    "        return age > 18\n",
    "    \n",
    "person1 = Person(\"Jack\", 20)\n",
    "print(person1.isAdult(20))\n",
    "print(person1.is_cool())\n",
    "\n",
    "print(Person.isAdult(20))\n",
    "print(Person.is_cool())"
   ]
  },
  {
   "cell_type": "code",
   "execution_count": 129,
   "id": "2536fbfa",
   "metadata": {
    "ExecuteTime": {
     "end_time": "2023-03-19T14:45:30.363555Z",
     "start_time": "2023-03-19T14:45:30.351562Z"
    }
   },
   "outputs": [],
   "source": [
    "class Student:\n",
    "    name = 'unknown' # class attribute\n",
    "    def __init__(self):\n",
    "        self.age = 20  # instance attribute\n",
    "\n",
    "    @classmethod\n",
    "    def tostring(cls):\n",
    "        print('Student Class Attributes: name=',cls.name,', age=', cls.age)"
   ]
  },
  {
   "cell_type": "markdown",
   "id": "e7dad19d",
   "metadata": {},
   "source": [
    "## Time Complexity <a name=\"time\" /> "
   ]
  },
  {
   "cell_type": "markdown",
   "id": "1573b01d",
   "metadata": {},
   "source": [
    "<img src=\"images/bigO.png\" />"
   ]
  },
  {
   "cell_type": "markdown",
   "id": "399ad4ae",
   "metadata": {},
   "source": [
    "#### Constant Time - $O(1)$"
   ]
  },
  {
   "cell_type": "markdown",
   "id": "745bc159",
   "metadata": {},
   "source": [
    "An algorithm is said to have a constant time when it is not dependent on the input data (n). No matter the size of the input data, the running time will always be the same."
   ]
  },
  {
   "cell_type": "code",
   "execution_count": 130,
   "id": "59de2b47",
   "metadata": {
    "ExecuteTime": {
     "end_time": "2023-03-19T14:45:30.379555Z",
     "start_time": "2023-03-19T14:45:30.366552Z"
    }
   },
   "outputs": [
    {
     "name": "stdout",
     "output_type": "stream",
     "text": [
      "False\n"
     ]
    }
   ],
   "source": [
    "if 2 > 5:\n",
    "    print(True)\n",
    "else:\n",
    "    print(False)"
   ]
  },
  {
   "cell_type": "code",
   "execution_count": 131,
   "id": "cda6a77d",
   "metadata": {
    "ExecuteTime": {
     "end_time": "2023-03-19T14:45:30.394543Z",
     "start_time": "2023-03-19T14:45:30.382545Z"
    }
   },
   "outputs": [
    {
     "data": {
      "text/plain": [
       "0"
      ]
     },
     "execution_count": 131,
     "metadata": {},
     "output_type": "execute_result"
    }
   ],
   "source": [
    "numbers = [*range(0, 5)]\n",
    "\n",
    "def get_first(data):\n",
    "    return data[0]\n",
    "\n",
    "get_first(numbers)"
   ]
  },
  {
   "cell_type": "markdown",
   "id": "e2eea5a1",
   "metadata": {},
   "source": [
    "Independently of the input data size, the above function will always have the same running time since it only gets the first value from the list."
   ]
  },
  {
   "cell_type": "markdown",
   "id": "bf32876f",
   "metadata": {},
   "source": [
    "#### Logarithmic Time - $O(\\log n)$"
   ]
  },
  {
   "cell_type": "markdown",
   "id": "d7896877",
   "metadata": {},
   "source": [
    "An algorithm is said to have a logarithmic time complexity when it reduces the size of the input data in each step (it doesn’t need to look at all values of the input data). Algorithms with logarithmic time complexity are commonly found in operations on binary trees or when using binary search."
   ]
  },
  {
   "cell_type": "code",
   "execution_count": 132,
   "id": "d2678357",
   "metadata": {
    "ExecuteTime": {
     "end_time": "2023-03-19T14:45:30.426528Z",
     "start_time": "2023-03-19T14:45:30.397552Z"
    }
   },
   "outputs": [
    {
     "name": "stdout",
     "output_type": "stream",
     "text": [
      "0\n",
      "2\n",
      "4\n",
      "6\n",
      "8\n",
      "10\n"
     ]
    }
   ],
   "source": [
    "for i in range(0, 11, 2):\n",
    "    print(i)"
   ]
  },
  {
   "cell_type": "markdown",
   "id": "cebdea7f",
   "metadata": {},
   "source": [
    "It is important to understand that an algorithm that must access all elements of its input data cannot take logarithmic time, as the time taken for reading input of size n is of the order of n."
   ]
  },
  {
   "cell_type": "markdown",
   "id": "17236ee5",
   "metadata": {},
   "source": [
    "#### Linear Time - $O(n)$"
   ]
  },
  {
   "cell_type": "markdown",
   "id": "a0e62e3e",
   "metadata": {},
   "source": [
    "An algorithm is said to have a linear time complexity when the running time increases at most linearly with the size of the input data. This is the best possible time complexity when the algorithm must examine all values in the input data. "
   ]
  },
  {
   "cell_type": "code",
   "execution_count": 133,
   "id": "a801fed0",
   "metadata": {
    "ExecuteTime": {
     "end_time": "2023-03-19T14:45:30.442508Z",
     "start_time": "2023-03-19T14:45:30.429516Z"
    }
   },
   "outputs": [
    {
     "name": "stdout",
     "output_type": "stream",
     "text": [
      "0\n",
      "1\n",
      "2\n",
      "3\n",
      "4\n"
     ]
    }
   ],
   "source": [
    "for i in numbers:\n",
    "    print(i)"
   ]
  },
  {
   "cell_type": "code",
   "execution_count": 134,
   "id": "c6339919",
   "metadata": {
    "ExecuteTime": {
     "end_time": "2023-03-19T14:45:30.457511Z",
     "start_time": "2023-03-19T14:45:30.446508Z"
    }
   },
   "outputs": [
    {
     "name": "stdout",
     "output_type": "stream",
     "text": [
      "Index: 6\n"
     ]
    }
   ],
   "source": [
    "def linear_search(data, value):\n",
    "    for index in range(len(data)):\n",
    "        if value == data[index]:\n",
    "            return index\n",
    "    raise ValueError('Value not found in the list')\n",
    "\n",
    "data = [1, 2, 9, 8, 3, 4, 7, 6, 5]\n",
    "print(f\"Index: {linear_search(data, 7)}\")"
   ]
  },
  {
   "cell_type": "markdown",
   "id": "3a610147",
   "metadata": {},
   "source": [
    "In the above example, while more complex, it's necessary to look at all values to find the value that's being sought out."
   ]
  },
  {
   "cell_type": "markdown",
   "id": "b45cde9f",
   "metadata": {},
   "source": [
    "#### Quasilinear Time - $O(n \\log n)$"
   ]
  },
  {
   "cell_type": "markdown",
   "id": "e9272ab2",
   "metadata": {},
   "source": [
    "An algorithm is said to have a quasilinear time complexity when each operation in the input data have a **logarithm time** complexity. It is commonly seen in sorting algorithms (e.g., mergesort, timsort, heapsort)."
   ]
  },
  {
   "cell_type": "code",
   "execution_count": 135,
   "id": "191b03af",
   "metadata": {
    "ExecuteTime": {
     "end_time": "2023-03-19T14:45:30.473491Z",
     "start_time": "2023-03-19T14:45:30.461497Z"
    }
   },
   "outputs": [
    {
     "name": "stdout",
     "output_type": "stream",
     "text": [
      "0 0\n",
      "0 3\n",
      "0 6\n",
      "0 9\n",
      "1 0\n",
      "1 3\n",
      "1 6\n",
      "1 9\n",
      "2 0\n",
      "2 3\n",
      "2 6\n",
      "2 9\n",
      "3 0\n",
      "3 3\n",
      "3 6\n",
      "3 9\n",
      "4 0\n",
      "4 3\n",
      "4 6\n",
      "4 9\n"
     ]
    }
   ],
   "source": [
    "for i in range(5):\n",
    "    for j in range(0, 10, 3):\n",
    "        print(i, j)"
   ]
  },
  {
   "cell_type": "markdown",
   "id": "abf33b15",
   "metadata": {},
   "source": [
    "#### Quadratic Time - $O(n^2)$"
   ]
  },
  {
   "cell_type": "markdown",
   "id": "3427dfa6",
   "metadata": {},
   "source": [
    "An algorithm is said to have a quadratic time complexity when it needs to perform a **linear time** operation for each value in the input data."
   ]
  },
  {
   "cell_type": "code",
   "execution_count": 136,
   "id": "1c922a33",
   "metadata": {
    "ExecuteTime": {
     "end_time": "2023-03-19T14:45:30.488492Z",
     "start_time": "2023-03-19T14:45:30.476494Z"
    }
   },
   "outputs": [
    {
     "name": "stdout",
     "output_type": "stream",
     "text": [
      "0 0\n",
      "0 1\n",
      "0 2\n",
      "1 0\n",
      "1 1\n",
      "1 2\n",
      "2 0\n",
      "2 1\n",
      "2 2\n"
     ]
    }
   ],
   "source": [
    "for i in range(3):\n",
    "    for j in range(3):\n",
    "        print(i, j)"
   ]
  },
  {
   "cell_type": "markdown",
   "id": "3f83b318",
   "metadata": {},
   "source": [
    "#### Exponential Time - $O(2^n)$"
   ]
  },
  {
   "cell_type": "markdown",
   "id": "3a694a44",
   "metadata": {},
   "source": [
    "An algorithm is said to have an exponential time complexity when the growth doubles with each addition to the input data set. This kind of time complexity is usually seen in brute-force algorithms. Another example of an exponential time algorithm is the recursive calculation of Fibonacci numbers."
   ]
  },
  {
   "cell_type": "code",
   "execution_count": 137,
   "id": "2363686b",
   "metadata": {
    "ExecuteTime": {
     "end_time": "2023-03-19T14:45:30.504473Z",
     "start_time": "2023-03-19T14:45:30.491480Z"
    }
   },
   "outputs": [],
   "source": [
    "def fibonacci(n):\n",
    "    if n <= 1:\n",
    "        return n\n",
    "    return fibonacci(n-1) + fibonacci(n-2)"
   ]
  },
  {
   "cell_type": "code",
   "execution_count": 138,
   "id": "fa4894aa",
   "metadata": {
    "ExecuteTime": {
     "end_time": "2023-03-19T14:45:30.519483Z",
     "start_time": "2023-03-19T14:45:30.507471Z"
    }
   },
   "outputs": [
    {
     "name": "stdout",
     "output_type": "stream",
     "text": [
      "1\n",
      "55\n",
      "6765\n"
     ]
    }
   ],
   "source": [
    "print(fibonacci(1))\n",
    "print(fibonacci(10))\n",
    "print(fibonacci(20))"
   ]
  },
  {
   "cell_type": "markdown",
   "id": "6719807b",
   "metadata": {},
   "source": [
    "A recursive function may be described as a function that calls itself in specific conditions. The time complexity of recursive functions is a little harder to define since it depends on how many times the function is called and the time complexity of a single function call."
   ]
  },
  {
   "cell_type": "markdown",
   "id": "1fbb5576",
   "metadata": {},
   "source": [
    "#### Factorial Time - $O(n!)$"
   ]
  },
  {
   "cell_type": "markdown",
   "id": "defc38a5",
   "metadata": {},
   "source": [
    "An algorithm is said to have a factorial time complexity when it grows in a factorial way based on the size of the input data."
   ]
  },
  {
   "cell_type": "markdown",
   "id": "02fe67b5",
   "metadata": {},
   "source": [
    "<img src=\"images/factorial.png\" />"
   ]
  },
  {
   "cell_type": "code",
   "execution_count": 139,
   "id": "77d197f7",
   "metadata": {
    "ExecuteTime": {
     "end_time": "2023-03-19T14:45:30.535455Z",
     "start_time": "2023-03-19T14:45:30.523464Z"
    }
   },
   "outputs": [
    {
     "data": {
      "text/plain": [
       "362880"
      ]
     },
     "execution_count": 139,
     "metadata": {},
     "output_type": "execute_result"
    }
   ],
   "source": [
    "math.factorial(9)"
   ]
  },
  {
   "cell_type": "markdown",
   "id": "42861533",
   "metadata": {},
   "source": [
    "When evaluating an algorithm with multiple time complexities, the algorithm will have the time complexity of the largest complexity present. This is the case as this larger time complexity bottlenecks the smaller ones."
   ]
  },
  {
   "cell_type": "markdown",
   "id": "0745b216",
   "metadata": {},
   "source": [
    "## Miscellaneous <a name=\"misc\" />"
   ]
  },
  {
   "cell_type": "code",
   "execution_count": 140,
   "id": "f116c8a5",
   "metadata": {
    "ExecuteTime": {
     "end_time": "2023-03-19T14:45:30.550448Z",
     "start_time": "2023-03-19T14:45:30.539453Z"
    }
   },
   "outputs": [
    {
     "name": "stdout",
     "output_type": "stream",
     "text": [
      "Nope\n"
     ]
    }
   ],
   "source": [
    "# Try except statement\n",
    "try:\n",
    "    print(10/0)\n",
    "except:\n",
    "    print(\"Nope\")"
   ]
  },
  {
   "cell_type": "code",
   "execution_count": 141,
   "id": "85e61008",
   "metadata": {
    "ExecuteTime": {
     "end_time": "2023-03-19T14:45:30.566455Z",
     "start_time": "2023-03-19T14:45:30.554445Z"
    }
   },
   "outputs": [
    {
     "data": {
      "text/plain": [
       "6"
      ]
     },
     "execution_count": 141,
     "metadata": {},
     "output_type": "execute_result"
    }
   ],
   "source": [
    "# Writing a doctest\n",
    "def summ(a, b):\n",
    "    \"\"\"\n",
    "    >>> sum(4, 3)\n",
    "    7\n",
    "    \n",
    "    >>> sum(1, 2)\n",
    "    3\n",
    "    \"\"\"\n",
    "    return a + b\n",
    "\n",
    "summ(5, 1)"
   ]
  }
 ],
 "metadata": {
  "kernelspec": {
   "display_name": "Python 3 (ipykernel)",
   "language": "python",
   "name": "python3"
  },
  "language_info": {
   "codemirror_mode": {
    "name": "ipython",
    "version": 3
   },
   "file_extension": ".py",
   "mimetype": "text/x-python",
   "name": "python",
   "nbconvert_exporter": "python",
   "pygments_lexer": "ipython3",
   "version": "3.9.13"
  }
 },
 "nbformat": 4,
 "nbformat_minor": 5
}
